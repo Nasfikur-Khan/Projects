{
  "nbformat": 4,
  "nbformat_minor": 0,
  "metadata": {
    "colab": {
      "name": "PYTHON - Introduction to Colab notebook",
      "provenance": [],
      "collapsed_sections": [],
      "include_colab_link": true
    },
    "kernelspec": {
      "name": "python3",
      "display_name": "Python 3"
    }
  },
  "cells": [
    {
      "cell_type": "markdown",
      "metadata": {
        "id": "view-in-github",
        "colab_type": "text"
      },
      "source": [
        "<a href=\"https://colab.research.google.com/github/Nasfikur-Khan/Projects/blob/master/PYTHON_Introduction_to_Colab_notebook.ipynb\" target=\"_parent\"><img src=\"https://colab.research.google.com/assets/colab-badge.svg\" alt=\"Open In Colab\"/></a>"
      ]
    },
    {
      "cell_type": "markdown",
      "metadata": {
        "id": "EGaF2GT4uTfu"
      },
      "source": [
        "# Introduction to Colab for the classroom\n",
        "\n",
        "[Link to live notebook](https://colab.research.google.com/drive/19QLO7-6Uu5PSRKZuSbpVzXzsdUcvyvPI)\n",
        "\n",
        "This is an \"Google Colab\" notebook. It's very similar to Jupyter Notebook, which we'll use extensively in this class. Unlike in Jupyter notebooks, however, this is a shared document where everybody can see and make changes to the same document.\n",
        "\n",
        "The first few problems will get us acquainted with working together. "
      ]
    },
    {
      "cell_type": "markdown",
      "metadata": {
        "id": "WsjmO2LllnlQ"
      },
      "source": [
        "If you would like to follow along and use your own notebook, please use these instructions.\n",
        "1. Go to _file_ in the upper left corner\n",
        "2. Click _Save copy in drive_ \n",
        "3. Follow along and use your own notebook!"
      ]
    },
    {
      "cell_type": "code",
      "metadata": {
        "id": "30nAHO_TlVju"
      },
      "source": [
        "# This is a comment\n",
        "# in a code cell\n",
        "# Press shift + enter to execute a cell\n",
        "# Nothing will print from this cell since these are all comments"
      ],
      "execution_count": 1,
      "outputs": []
    },
    {
      "cell_type": "markdown",
      "metadata": {
        "id": "lwe_hsV9ul8L"
      },
      "source": [
        "## Lesson 0.0: Hello World\n",
        "\n",
        "One of the most basic programs that is always written first is called **Hello World**\n",
        "\n",
        "1. Click on this cell. This cell will highlight.\n",
        "1. Click the \"+ CODE\" button in the header. This will create a cell in the next line.\n",
        "    - optional: keyboard shortcut: **`CMD+M B`**\n",
        "\n",
        "1. In this cell, enter:\n",
        "\n",
        "> ```python\n",
        "> # Your name\n",
        "> print( \"Hello world!\" )\n",
        "> ```\n",
        "\n",
        "4. Click on the \"play\" button to the left of the cell. The first time you run a cell in a colab notebook it might take as long as 10-20 seconds to finish. After that, it's a lot faster.\n",
        "    * optional: keyboard shortcut: `SHIFT+ENTER`\n",
        "    \n",
        "-----------\n"
      ]
    },
    {
      "cell_type": "code",
      "metadata": {
        "id": "9gjzPjQWF0mm",
        "colab": {
          "base_uri": "https://localhost:8080/",
          "height": 35
        },
        "outputId": "8b340e70-69fb-4bfe-b0bb-acbc99918520"
      },
      "source": [
        "# Elliott\n",
        "print('Hello World!')"
      ],
      "execution_count": null,
      "outputs": [
        {
          "output_type": "stream",
          "text": [
            "Hello World!\n"
          ],
          "name": "stdout"
        }
      ]
    },
    {
      "cell_type": "markdown",
      "metadata": {
        "id": "NCcCHHCzgSQX"
      },
      "source": [
        "### Note\n",
        "\n",
        "In Python, anything after the `#` sign is _not executed_. These are called \"comments\". Lines that start with `#`are  ignored by the Python interpreter and plays no role in the computer program. It's just there as a note to humans reading the code."
      ]
    },
    {
      "cell_type": "markdown",
      "metadata": {
        "id": "_tExYlfHx_L1"
      },
      "source": [
        "## Lesson 0.1: Hello World, Simplified\n",
        "\n",
        "The last statement to evaluate in the cell is automatically printed. So, the `print` statement is redundant.\n",
        "\n",
        "1. Click on this cell. This cell will highlight.\n",
        "1. Click the \"+ CODE\" button in the header. This will create a cell in the next line.\n",
        "1. In this cell, enter:\n",
        "\n",
        "> ```python\n",
        "> # YOUR NAME HERE\n",
        "> \"Hello world!\"\n",
        "> ```\n",
        "\n",
        "4. Click on the \"play\" button to the left of the cell.\n",
        "\n",
        "----------"
      ]
    },
    {
      "cell_type": "code",
      "metadata": {
        "id": "RP5M3YvIMzRP",
        "colab": {
          "base_uri": "https://localhost:8080/"
        },
        "outputId": "d5e118ee-7428-4fa5-bff8-24a7c04b7251"
      },
      "source": [
        "#Nasfikur \n",
        "print(\"Hello world!\")"
      ],
      "execution_count": 2,
      "outputs": [
        {
          "output_type": "stream",
          "text": [
            "Hello world!\n"
          ],
          "name": "stdout"
        }
      ]
    },
    {
      "cell_type": "markdown",
      "metadata": {
        "id": "esHycXYvppGK"
      },
      "source": [
        "### What's the difference?\n",
        "\n",
        "The  `print(x)` function writes the result of `str(x)` to the standard output. In a jupyter notebook, everything written to `stdout` is printed directy below the code cell.\n",
        "\n"
      ]
    },
    {
      "cell_type": "code",
      "metadata": {
        "id": "ZKTAIvqXq3W1",
        "colab": {
          "base_uri": "https://localhost:8080/"
        },
        "outputId": "0c410fde-1e68-49b4-9002-b0af9e3b8332"
      },
      "source": [
        "# Here we write a value to stdout, which is the same thing as print().\n",
        "\n",
        "import sys\n",
        "\n",
        "sys.stdout.write( \"Hello, standard out!\\n\" )\n",
        "print( \"Hello, print!\" )"
      ],
      "execution_count": 3,
      "outputs": [
        {
          "output_type": "stream",
          "text": [
            "Hello, standard out!\n",
            "Hello, print!\n"
          ],
          "name": "stdout"
        }
      ]
    },
    {
      "cell_type": "markdown",
      "metadata": {
        "id": "JLkGw_iArOQ_"
      },
      "source": [
        "The main takeaway being: `print()` works in almost every kind of python environment - notebook, command line, script, web server, or library - because they all have access to `stdout`.\n",
        "\n",
        "Ending a cell in a Jupyter notebook with an expression `x` will print the value of `repr(x)` directly below the cell. This is special behavior particular to Jupyter notebooks. If you try this _outside_ of a Jupyter notebook, you'll have a bad time."
      ]
    },
    {
      "cell_type": "code",
      "metadata": {
        "id": "ISIZj7Dd9RyR",
        "colab": {
          "base_uri": "https://localhost:8080/",
          "height": 36
        },
        "outputId": "e9f69b3e-1f6f-4cb3-9233-e93291d56043"
      },
      "source": [
        "\"Hello, Jupyter cell!\""
      ],
      "execution_count": 4,
      "outputs": [
        {
          "output_type": "execute_result",
          "data": {
            "application/vnd.google.colaboratory.intrinsic+json": {
              "type": "string"
            },
            "text/plain": [
              "'Hello, Jupyter cell!'"
            ]
          },
          "metadata": {
            "tags": []
          },
          "execution_count": 4
        }
      ]
    },
    {
      "cell_type": "markdown",
      "metadata": {
        "id": "bOIFe-YezZVG"
      },
      "source": [
        "## Lesson 0.2: More than text\n",
        "\n",
        "When a cell is executed, a text value of the result of the last line is always printed.\n",
        "\n",
        "1. Create a cell and enter this:\n",
        "\n",
        "> ```python\n",
        "> # YOUR NAME HERE\n",
        "> a = YOUR OWN NUMBER\n",
        "> a\n",
        "> ```\n",
        "\n",
        "2. Run it.\n",
        "\n",
        "_Technially_: The string result of `repr(LAST_EXPRESSION)` is printed  below a cell after it's executed.\n",
        "\n",
        "--------\n",
        "\n"
      ]
    },
    {
      "cell_type": "code",
      "metadata": {
        "id": "0XtDGPqXM7ZK",
        "colab": {
          "base_uri": "https://localhost:8080/"
        },
        "outputId": "51e68149-a609-446a-dbcf-a24629634748"
      },
      "source": [
        "#Nasfik \n",
        "a = 30\n",
        "print(a)"
      ],
      "execution_count": 6,
      "outputs": [
        {
          "output_type": "stream",
          "text": [
            "30\n"
          ],
          "name": "stdout"
        }
      ]
    },
    {
      "cell_type": "markdown",
      "metadata": {
        "id": "q1KrEehynMej"
      },
      "source": [
        "# 1.0 Intro to Python\n",
        "\n",
        "Let's jump right in.\n",
        "\n",
        "A Python program is a series of expressions and statements. Don't worry about the specifics, but very roughly:\n",
        "\n",
        "* A **statement** is like a **verb**. It **does** something.\n",
        "* An **expression** is like a **noun**. It **is** something.\n",
        "\n",
        "The simplest Python program is a single expression, and the simplest expression is a number.\n",
        "\n",
        "Open up a code cell, type a number, and execute the cell."
      ]
    },
    {
      "cell_type": "code",
      "metadata": {
        "id": "0yMwk0ahnPi-",
        "colab": {
          "base_uri": "https://localhost:8080/"
        },
        "outputId": "295705c3-a10c-4c28-82e9-72c1b19ddd6d"
      },
      "source": [
        "# Statement\n",
        "30"
      ],
      "execution_count": 8,
      "outputs": [
        {
          "output_type": "execute_result",
          "data": {
            "text/plain": [
              "30"
            ]
          },
          "metadata": {
            "tags": []
          },
          "execution_count": 8
        }
      ]
    },
    {
      "cell_type": "code",
      "metadata": {
        "id": "XFz48qheo0JJ"
      },
      "source": [
        "# Expression\n",
        "a = 31"
      ],
      "execution_count": 9,
      "outputs": []
    },
    {
      "cell_type": "code",
      "metadata": {
        "id": "8QUbJa3qo24H",
        "colab": {
          "base_uri": "https://localhost:8080/"
        },
        "outputId": "ed0e5afc-b739-41da-d4bf-32637d1c4fbc"
      },
      "source": [
        "print(a)"
      ],
      "execution_count": 10,
      "outputs": [
        {
          "output_type": "stream",
          "text": [
            "31\n"
          ],
          "name": "stdout"
        }
      ]
    },
    {
      "cell_type": "markdown",
      "metadata": {
        "id": "kwXBXpCpo76h"
      },
      "source": [
        "##  1.10 Literal Expressions"
      ]
    },
    {
      "cell_type": "markdown",
      "metadata": {
        "id": "bLeQUYjqo_CN"
      },
      "source": [
        "An expression which expresses a single value is called a **literal**. A literal has a **type**. The above literal is an **integer**.\n",
        "\n",
        "Python has several numeric types.\n",
        "\n",
        "Here's a floating point number:\n"
      ]
    },
    {
      "cell_type": "code",
      "metadata": {
        "id": "UWdWsE8Do3Sr",
        "colab": {
          "base_uri": "https://localhost:8080/"
        },
        "outputId": "067ca2bd-b390-4d32-8aeb-b3682cf354f9"
      },
      "source": [
        "# Floating Point Number\n",
        "4.52324"
      ],
      "execution_count": 12,
      "outputs": [
        {
          "output_type": "execute_result",
          "data": {
            "text/plain": [
              "4.52324"
            ]
          },
          "metadata": {
            "tags": []
          },
          "execution_count": 12
        }
      ]
    },
    {
      "cell_type": "markdown",
      "metadata": {
        "id": "c6lAqEdipHn-"
      },
      "source": [
        "#### 1.11 Complex Numbers"
      ]
    },
    {
      "cell_type": "code",
      "metadata": {
        "id": "sfLlciclpEL4",
        "colab": {
          "base_uri": "https://localhost:8080/"
        },
        "outputId": "e44d0b74-4568-4508-de58-575f69026f31"
      },
      "source": [
        "# Complex Number\n",
        "complex(1, 5)"
      ],
      "execution_count": 13,
      "outputs": [
        {
          "output_type": "execute_result",
          "data": {
            "text/plain": [
              "(1+5j)"
            ]
          },
          "metadata": {
            "tags": []
          },
          "execution_count": 13
        }
      ]
    },
    {
      "cell_type": "markdown",
      "metadata": {
        "id": "pEkW1GR3pOdv"
      },
      "source": [
        "As I mentioned before, literals have types. In fact - the result of _all_ expressions have a type. You can check the type of an expression with the `type` function.\n",
        "\n",
        "```python\n",
        "type(EXPRESSION)\n",
        "```\n",
        "\n",
        "Try it out."
      ]
    },
    {
      "cell_type": "code",
      "metadata": {
        "id": "81WsB93lpJ0O",
        "colab": {
          "base_uri": "https://localhost:8080/"
        },
        "outputId": "f4e79525-9aef-4623-fabc-1381c44211f6"
      },
      "source": [
        "type(5)"
      ],
      "execution_count": 14,
      "outputs": [
        {
          "output_type": "execute_result",
          "data": {
            "text/plain": [
              "int"
            ]
          },
          "metadata": {
            "tags": []
          },
          "execution_count": 14
        }
      ]
    },
    {
      "cell_type": "code",
      "metadata": {
        "id": "TNg3xLVZpQZo",
        "colab": {
          "base_uri": "https://localhost:8080/"
        },
        "outputId": "984de865-1e44-4929-f276-a2c826e16d4a"
      },
      "source": [
        "a = 5\n",
        "type(a)"
      ],
      "execution_count": 15,
      "outputs": [
        {
          "output_type": "execute_result",
          "data": {
            "text/plain": [
              "int"
            ]
          },
          "metadata": {
            "tags": []
          },
          "execution_count": 15
        }
      ]
    },
    {
      "cell_type": "code",
      "metadata": {
        "id": "hOQVuxjGpSLO",
        "colab": {
          "base_uri": "https://localhost:8080/"
        },
        "outputId": "1c7e5046-e746-4143-fc2e-1b2a4a275599"
      },
      "source": [
        "a = 5.2\n",
        "type(a)"
      ],
      "execution_count": 16,
      "outputs": [
        {
          "output_type": "execute_result",
          "data": {
            "text/plain": [
              "float"
            ]
          },
          "metadata": {
            "tags": []
          },
          "execution_count": 16
        }
      ]
    },
    {
      "cell_type": "code",
      "metadata": {
        "id": "XWFdBTAQpUHl",
        "colab": {
          "base_uri": "https://localhost:8080/"
        },
        "outputId": "325cbddf-dca9-4328-b6d9-b658a5cba706"
      },
      "source": [
        "type(complex(4, 3))"
      ],
      "execution_count": 18,
      "outputs": [
        {
          "output_type": "execute_result",
          "data": {
            "text/plain": [
              "complex"
            ]
          },
          "metadata": {
            "tags": []
          },
          "execution_count": 18
        }
      ]
    },
    {
      "cell_type": "markdown",
      "metadata": {
        "id": "Zb8IYOjBqLLz"
      },
      "source": [
        "## 1.20 Arithmetic Expressions\n",
        "\n",
        "Python provides several simple arithmetic expressions for use with numeric literals.\n",
        "\n",
        "* `+` addition\n",
        "* `-` subtraction\n",
        "* `*` multiplication\n",
        "* `/` division\n",
        "* `**` exponentiation\n",
        "\n",
        "### 1.21 Other types of arithmetic expressions:\n",
        "\n",
        "* `//` floor division\n",
        "* `%` Modulo\n"
      ]
    },
    {
      "cell_type": "code",
      "metadata": {
        "id": "Z1krVv0pqICJ",
        "colab": {
          "base_uri": "https://localhost:8080/"
        },
        "outputId": "104a32fa-edb2-4c2d-f89c-bfbdfbc63aca"
      },
      "source": [
        "# Examples \n",
        "\n",
        "# Addition\n",
        "a = 10\n",
        "print(a + 2)"
      ],
      "execution_count": 19,
      "outputs": [
        {
          "output_type": "stream",
          "text": [
            "12\n"
          ],
          "name": "stdout"
        }
      ]
    },
    {
      "cell_type": "code",
      "metadata": {
        "id": "cfHsOkipkabq",
        "colab": {
          "base_uri": "https://localhost:8080/"
        },
        "outputId": "c7abfbd1-90b4-402f-fbcc-1ac2e7a267c2"
      },
      "source": [
        "# Subtraction\n",
        "print(a - 2)"
      ],
      "execution_count": 20,
      "outputs": [
        {
          "output_type": "stream",
          "text": [
            "8\n"
          ],
          "name": "stdout"
        }
      ]
    },
    {
      "cell_type": "code",
      "metadata": {
        "id": "_njiEMPTkkAR",
        "colab": {
          "base_uri": "https://localhost:8080/"
        },
        "outputId": "93d3c4ba-7c50-4133-d82f-12a2eaf4466d"
      },
      "source": [
        "# Multiplication\n",
        "print(a * 2)"
      ],
      "execution_count": 21,
      "outputs": [
        {
          "output_type": "stream",
          "text": [
            "20\n"
          ],
          "name": "stdout"
        }
      ]
    },
    {
      "cell_type": "code",
      "metadata": {
        "id": "AUrr9XkUkm4Z",
        "colab": {
          "base_uri": "https://localhost:8080/"
        },
        "outputId": "0ebff7ae-10a5-4333-b8c6-3b649e2507d5"
      },
      "source": [
        "# Division\n",
        "print(a/2)"
      ],
      "execution_count": 22,
      "outputs": [
        {
          "output_type": "stream",
          "text": [
            "5.0\n"
          ],
          "name": "stdout"
        }
      ]
    },
    {
      "cell_type": "code",
      "metadata": {
        "id": "5GNPXbJjko66",
        "colab": {
          "base_uri": "https://localhost:8080/"
        },
        "outputId": "f25b6030-f88e-470d-cd2f-380c9112f8bc"
      },
      "source": [
        "# Exponentiation\n",
        "a = 5\n",
        "b = 2\n",
        "print(a ** b)"
      ],
      "execution_count": 23,
      "outputs": [
        {
          "output_type": "stream",
          "text": [
            "25\n"
          ],
          "name": "stdout"
        }
      ]
    },
    {
      "cell_type": "markdown",
      "metadata": {
        "id": "q-7Z5-qrlBzu"
      },
      "source": [
        "Questions: \n",
        "\n",
        "1. What is Floor division?\n",
        "\n",
        "Ans: divide a number, then remove the decimal section.\n",
        "2. What is Modulo?\n",
        "\n",
        "Ans: Modulo = Reminder"
      ]
    },
    {
      "cell_type": "code",
      "metadata": {
        "id": "Qq26gfHOlLkW",
        "colab": {
          "base_uri": "https://localhost:8080/"
        },
        "outputId": "b97bd31f-3321-4b46-86a3-94a687ace4d3"
      },
      "source": [
        "#Floor Division\n",
        "print(17 // 8)"
      ],
      "execution_count": 24,
      "outputs": [
        {
          "output_type": "stream",
          "text": [
            "2\n"
          ],
          "name": "stdout"
        }
      ]
    },
    {
      "cell_type": "code",
      "metadata": {
        "id": "syjyP9H1lWZk",
        "colab": {
          "base_uri": "https://localhost:8080/"
        },
        "outputId": "8ec875a8-fc28-4695-c3db-3685b4dabb86"
      },
      "source": [
        "# Modulo\n",
        "print(17 % 9)"
      ],
      "execution_count": 25,
      "outputs": [
        {
          "output_type": "stream",
          "text": [
            "8\n"
          ],
          "name": "stdout"
        }
      ]
    },
    {
      "cell_type": "markdown",
      "metadata": {
        "id": "tjx-qpZIqkbV"
      },
      "source": [
        "## 1.30 Variable Expressions\n",
        "\n",
        "Python provides a way to name values called **variables**. You're probably used to variables from algebra, where they're used to store numbers.\n",
        "\n",
        "$$ x_i = 15.4 $$\n",
        "\n",
        "In Python, variables are declared with an **assignment statement**, which simultaneously creates the variable and assigns it a value. This is accomplished with the **assignment operator** `=`, like this:\n",
        "\n",
        "```python\n",
        "VARIABLE = VALUE_EXPRESSION\n",
        "```\n",
        "\n",
        "For example, here we create a value `a` and assign it the float-typed value `1969.2121`."
      ]
    },
    {
      "cell_type": "code",
      "metadata": {
        "id": "MqJqXYM_qkzx",
        "colab": {
          "base_uri": "https://localhost:8080/"
        },
        "outputId": "b50145b7-6046-457a-e400-64a66010ed45"
      },
      "source": [
        "a = 1969.2121\n",
        "b = 10\n",
        "c = a + b\n",
        "print(c)"
      ],
      "execution_count": 26,
      "outputs": [
        {
          "output_type": "stream",
          "text": [
            "1979.2121\n"
          ],
          "name": "stdout"
        }
      ]
    },
    {
      "cell_type": "markdown",
      "metadata": {
        "id": "3L84GS1GrFpT"
      },
      "source": [
        "**Note** the assignment operator `=` is pronounced \"gets\", _not_ \"equals\". The statement `a = 12` is pronounced \"ay gets twelve\".\n",
        "\n",
        "\n",
        "#### 1.31 Code readability \n",
        "\n",
        "The use of descriptive variable names is an important part of writing readable code. The convention in python is to use one to threeish lower-case words joined using an underscore. For example:\n",
        "\n",
        "`birthday`\n",
        "\n",
        "or\n",
        "\n",
        "`party_date`\n",
        "\n",
        "In some cases convention allows for shorter variable names. `i` is a conventional name for a loop counter, for instance."
      ]
    },
    {
      "cell_type": "markdown",
      "metadata": {
        "id": "YVmYwQIUrQW0"
      },
      "source": [
        "### Right-to-left execution\n",
        "\n",
        "If you try the following code, what do you think will happen?\n",
        "\n",
        "```python\n",
        "a = 7\n",
        "a = a*2\n",
        "print( a )\n",
        "```\n",
        "\n",
        "Try it out in your own notebook!\n"
      ]
    },
    {
      "cell_type": "code",
      "metadata": {
        "id": "bvJnQ7-JrIz9",
        "colab": {
          "base_uri": "https://localhost:8080/"
        },
        "outputId": "e169fb50-dec3-4b76-e914-1b198a086517"
      },
      "source": [
        "a = 7\n",
        "a = a*2\n",
        "print( a )"
      ],
      "execution_count": 27,
      "outputs": [
        {
          "output_type": "stream",
          "text": [
            "14\n"
          ],
          "name": "stdout"
        }
      ]
    },
    {
      "cell_type": "code",
      "metadata": {
        "id": "mdwIPtugld3d",
        "colab": {
          "base_uri": "https://localhost:8080/"
        },
        "outputId": "153ea478-fbf1-4fb1-96cd-55be9b452109"
      },
      "source": [
        "# This is the same as above but with a different method\n",
        "a = 7\n",
        "a *= 2\n",
        "print( a )"
      ],
      "execution_count": 28,
      "outputs": [
        {
          "output_type": "stream",
          "text": [
            "14\n"
          ],
          "name": "stdout"
        }
      ]
    },
    {
      "cell_type": "markdown",
      "metadata": {
        "id": "NfgoMnR4rYND"
      },
      "source": [
        "Against intuition, this actually works. This is because an assignment statement is evaluated **right to left**. First the expression on the right of the `=` is evaluated, and then the result is assigned to the variable on the left.\n",
        "\n",
        "Changing variables in this way occurs so commonly that there is built-in shorthand for it. The result of the first line could have been achieved with `x += 5`. This **syntactic sugar** is available for all the simple operations `+`, `-`, `*`, `/`, `**`, and `%` that we covered earlier."
      ]
    },
    {
      "cell_type": "markdown",
      "metadata": {
        "id": "JdXMCt4Orst_"
      },
      "source": [
        "## 1.4 Logic\n",
        "\n",
        "We can't write a program without the ability to make a _choice_, and the `if` statement provides this ability. The `if` statement provides a way to specify that a statement should only be executed _if a given condition expression evaluates to True_.\n",
        "\n",
        "The general syntax of an `if` statement in Python is:\n",
        "\n",
        "```python\n",
        "if condition:\n",
        "    if_block_statement\n",
        "```\n",
        "\n",
        "Notice how the `if` statement ends in a colon `:`. This is the way that Python declares the start of an indentation block."
      ]
    },
    {
      "cell_type": "code",
      "metadata": {
        "id": "Yu_gBL12rymO",
        "colab": {
          "base_uri": "https://localhost:8080/"
        },
        "outputId": "1a12fe5b-82d1-4753-a4a9-f3e73badf4d4"
      },
      "source": [
        "# Example 1\n",
        "if True:\n",
        "  print(\"True!\")"
      ],
      "execution_count": 29,
      "outputs": [
        {
          "output_type": "stream",
          "text": [
            "True!\n"
          ],
          "name": "stdout"
        }
      ]
    },
    {
      "cell_type": "code",
      "metadata": {
        "id": "30Hbr9iHr17S",
        "colab": {
          "base_uri": "https://localhost:8080/"
        },
        "outputId": "9a47a88b-dee6-44b6-bf8f-2991e6a83630"
      },
      "source": [
        "# Example 2\n",
        "a = 3\n",
        "if a != 5:\n",
        "  print(a)"
      ],
      "execution_count": 30,
      "outputs": [
        {
          "output_type": "stream",
          "text": [
            "3\n"
          ],
          "name": "stdout"
        }
      ]
    },
    {
      "cell_type": "code",
      "metadata": {
        "id": "tHrPweTQr7eH",
        "colab": {
          "base_uri": "https://localhost:8080/"
        },
        "outputId": "1910a8a2-c585-4895-cccc-7d2c69266baa"
      },
      "source": [
        "# Example 3\n",
        "a = 4\n",
        "if a != 3:\n",
        "  print(a)\n",
        "else:\n",
        "  print(\"a = 3\")"
      ],
      "execution_count": 32,
      "outputs": [
        {
          "output_type": "stream",
          "text": [
            "4\n"
          ],
          "name": "stdout"
        }
      ]
    },
    {
      "cell_type": "markdown",
      "metadata": {
        "id": "ZIXhUrABjIZi"
      },
      "source": [
        "### 1.41  Logic with Functions\n",
        "\n",
        "We will explore this more later, but for now, I want to quickly introduce you to functions in python.  The syntax for a function is fairly simple, and the more you see it, the easier it will become.  \n",
        "\n",
        "1. Every function starts with a declaritive statement where you can pass the function arguments.  Once again, make sure that the function name represents what the function does\n",
        "\n",
        "2. Every function needs a return statement that can return nothing, or something useful.\n",
        "\n",
        "For example, I am going to build a function below that adds two numbers together"
      ]
    },
    {
      "cell_type": "code",
      "metadata": {
        "id": "ubrsStU-r9Zx",
        "colab": {
          "base_uri": "https://localhost:8080/"
        },
        "outputId": "e4ff4ece-e1da-4e80-88d6-e9abb3154ad2"
      },
      "source": [
        "# Declare and name the function\n",
        "def add(a,b):\n",
        "  \n",
        "  # Add the two numbers and save as a new variable\n",
        "  c = a + b\n",
        "  \n",
        "  # Return the value c\n",
        "  return c\n",
        "\n",
        "# Call the function with a = 10, and b = 15\n",
        "add(12,17)"
      ],
      "execution_count": 33,
      "outputs": [
        {
          "output_type": "execute_result",
          "data": {
            "text/plain": [
              "29"
            ]
          },
          "metadata": {
            "tags": []
          },
          "execution_count": 33
        }
      ]
    },
    {
      "cell_type": "markdown",
      "metadata": {
        "id": "aOpRd9hNsHoq"
      },
      "source": [
        "### Conditionals\n",
        "\n",
        "Let's tackle this one part at a time. What does it mean to be a condition? Really, all an `if` is checking is whether the conditional evaluates to `True` or `False`. If the condition is true, then the body of the `if` statement is executed. If the condition is false, the `if` block is skipped. Intuitively, true and false are concepts that make perfect sense to us. But we should take the time to clearly define them in a programming context here.\n",
        "\n",
        "`True` and `False` are what we call booleans in logic (`bool` for short), and what Python calls them. They are a special variable type with many potential uses; mainly they are used as a way to put a label on the truth of a statement. There are two specifically reserved words for bools in Python, `True` and `False`. Note that these begin with capital letters.\n",
        "\n",
        "```python\n",
        "In [1]: type(True)\n",
        "Out[1]: bool\n",
        "\n",
        "In [2]: type(False)\n",
        "Out[2]: bool\n",
        "```"
      ]
    },
    {
      "cell_type": "code",
      "metadata": {
        "id": "1kc7ChWlsIHL",
        "colab": {
          "base_uri": "https://localhost:8080/"
        },
        "outputId": "0f31d1f0-2b34-46b0-e952-c2b6f2ae2411"
      },
      "source": [
        "a = 3\n",
        "print(a != 3)\n",
        "print(a == 3)"
      ],
      "execution_count": 35,
      "outputs": [
        {
          "output_type": "stream",
          "text": [
            "False\n",
            "True\n"
          ],
          "name": "stdout"
        }
      ]
    },
    {
      "cell_type": "code",
      "metadata": {
        "id": "AR-yrYNCLAH-",
        "colab": {
          "base_uri": "https://localhost:8080/"
        },
        "outputId": "761fa5c9-e6f1-492a-ebf5-d5cd9676eb03"
      },
      "source": [
        "def add_even(a,b):\n",
        "  \n",
        "  if a % 2 == 0:\n",
        "    \n",
        "    return a + b\n",
        "  else:\n",
        "    print('a is not even')\n",
        "    return None\n",
        "  \n",
        "add_even(11,3)"
      ],
      "execution_count": 37,
      "outputs": [
        {
          "output_type": "stream",
          "text": [
            "a is not even\n"
          ],
          "name": "stdout"
        }
      ]
    }
  ]
}